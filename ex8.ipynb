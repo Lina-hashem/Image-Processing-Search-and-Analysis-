{
  "nbformat": 4,
  "nbformat_minor": 0,
  "metadata": {
    "colab": {
      "name": "Untitled4.ipynb",
      "provenance": [],
      "authorship_tag": "ABX9TyOB1wdsuQ6CJWWee0qlwKJw",
      "include_colab_link": true
    },
    "kernelspec": {
      "name": "python3",
      "display_name": "Python 3"
    },
    "language_info": {
      "name": "python"
    }
  },
  "cells": [
    {
      "cell_type": "markdown",
      "metadata": {
        "id": "view-in-github",
        "colab_type": "text"
      },
      "source": [
        "<a href=\"https://colab.research.google.com/github/Lina-hashem/Image-Processing-Search-and-Analysis-/blob/1.8/ex8.ipynb\" target=\"_parent\"><img src=\"https://colab.research.google.com/assets/colab-badge.svg\" alt=\"Open In Colab\"/></a>"
      ]
    },
    {
      "cell_type": "code",
      "metadata": {
        "id": "EdLBBS9iHAEI"
      },
      "source": [
        "from PIL import Image\n",
        "import math\n",
        "import imageio\n",
        "import numpy as np\n",
        "import scipy.ndimage as img"
      ],
      "execution_count": null,
      "outputs": []
    },
    {
      "cell_type": "code",
      "metadata": {
        "id": "LKGOCEcnHNTx"
      },
      "source": [
        "def create_pattern_vertical (M, N, f):\n",
        "  x ,y= np.meshgrid(np.linspace (0, N-1,N), np. linspace (M-1, 0, M))\n",
        "  im =0.5*(np.sin(2* np.pi*f*x/(N-1)+0.5*np.pi*(N-1)) + 1)*255\n",
        "  imageWrite (im, f'imv_{f}.png')\n",
        "for f in [1,2,3,9]: \n",
        "  create_pattern_vertical (256,256,f)"
      ],
      "execution_count": null,
      "outputs": []
    }
  ]
}